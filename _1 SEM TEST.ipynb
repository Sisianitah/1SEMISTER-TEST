{
 "cells": [
  {
   "cell_type": "markdown",
   "id": "2a48d999-05fe-4279-b9d1-42eda548da07",
   "metadata": {},
   "source": [
    "# QNS . 5"
   ]
  },
  {
   "cell_type": "code",
   "execution_count": 1,
   "id": "b0dba942-58b9-44bf-8636-e836bbbfda91",
   "metadata": {},
   "outputs": [],
   "source": [
    "import numpy as np"
   ]
  },
  {
   "cell_type": "markdown",
   "id": "5244ea15-4854-4656-bb40-7b2937458020",
   "metadata": {},
   "source": [
    "# 5i)"
   ]
  },
  {
   "cell_type": "code",
   "execution_count": 2,
   "id": "1ffba042-7d8d-472f-a5a3-bd1848e32f53",
   "metadata": {},
   "outputs": [
    {
     "name": "stdout",
     "output_type": "stream",
     "text": [
      "[[1.  0.2 0.5]\n",
      " [0.2 1.  0.8]\n",
      " [0.5 0.8 1. ]]\n"
     ]
    }
   ],
   "source": [
    "A = np.array([[1 , 0.2 , 0.5] , [0.2 , 1 , 0.8] , [0.5 , 0.8 , 1]])\n",
    "print (A)"
   ]
  },
  {
   "cell_type": "markdown",
   "id": "54527f5e-7dd4-4d30-aa6a-ab9155b9a039",
   "metadata": {},
   "source": [
    "# 5ii)"
   ]
  },
  {
   "cell_type": "code",
   "execution_count": 3,
   "id": "1f6650e5-1dc1-4e55-bf9a-2cfb3d4a4620",
   "metadata": {},
   "outputs": [],
   "source": [
    "# cosract a matrix below"
   ]
  },
  {
   "cell_type": "code",
   "execution_count": 4,
   "id": "871a8a7e-128e-4272-aeab-355e188bc479",
   "metadata": {},
   "outputs": [
    {
     "name": "stdout",
     "output_type": "stream",
     "text": [
      "[[1.  0.2 0.5]\n",
      " [0.2 1.  0.8]\n",
      " [0.5 0.8 1. ]]\n"
     ]
    }
   ],
   "source": [
    "A = np.array([[1 , 0.2 , 0.5] , [0.2 , 1 , 0.8] , [0.5 , 0.8 , 1]])\n",
    "AT = np. transpose(A)\n",
    "print (A)"
   ]
  },
  {
   "cell_type": "markdown",
   "id": "05e1c4fa-c2ff-4181-9995-bd75bd6d390b",
   "metadata": {},
   "source": [
    "# 5iii)"
   ]
  },
  {
   "cell_type": "code",
   "execution_count": 5,
   "id": "2a254abc-b0ca-4160-b834-24a44a7dc595",
   "metadata": {},
   "outputs": [],
   "source": [
    "# COMPUTE AN INVERSION OF THE MATRIX (TRANSPOSE)"
   ]
  },
  {
   "cell_type": "code",
   "execution_count": 6,
   "id": "b6cb50fe-f30d-4622-aeaa-294698140e34",
   "metadata": {},
   "outputs": [
    {
     "name": "stdout",
     "output_type": "stream",
     "text": [
      "0.2299999999999999\n"
     ]
    }
   ],
   "source": [
    "A = np.array([[1 , 0.2 , 0.5] , [0.2 , 1 , 0.8] , [0.5 , 0.8 , 1]])\n",
    "Adet = np.linalg.det(A)\n",
    "print(Adet)"
   ]
  },
  {
   "cell_type": "markdown",
   "id": "ff805340-dd62-4b5d-9af4-ab38d04a8edb",
   "metadata": {},
   "source": [
    "# 5iv)"
   ]
  },
  {
   "cell_type": "code",
   "execution_count": 7,
   "id": "d08ecad5-07bb-4030-9fb4-c473e23cc0a0",
   "metadata": {},
   "outputs": [],
   "source": [
    "# Transform"
   ]
  },
  {
   "cell_type": "code",
   "execution_count": 8,
   "id": "b64a59b8-188d-4bbc-b536-d853d3e14c9e",
   "metadata": {},
   "outputs": [
    {
     "ename": "AttributeError",
     "evalue": "module 'numpy' has no attribute 'transform'",
     "output_type": "error",
     "traceback": [
      "\u001b[1;31m---------------------------------------------------------------------------\u001b[0m",
      "\u001b[1;31mAttributeError\u001b[0m                            Traceback (most recent call last)",
      "Cell \u001b[1;32mIn[8], line 2\u001b[0m\n\u001b[0;32m      1\u001b[0m A \u001b[38;5;241m=\u001b[39m A \u001b[38;5;241m=\u001b[39m np\u001b[38;5;241m.\u001b[39marray([[\u001b[38;5;241m1\u001b[39m , \u001b[38;5;241m0.2\u001b[39m , \u001b[38;5;241m0.5\u001b[39m] , [\u001b[38;5;241m0.2\u001b[39m , \u001b[38;5;241m1\u001b[39m , \u001b[38;5;241m0.8\u001b[39m] , [\u001b[38;5;241m0.5\u001b[39m , \u001b[38;5;241m0.8\u001b[39m , \u001b[38;5;241m1\u001b[39m]])\n\u001b[1;32m----> 2\u001b[0m Adet \u001b[38;5;241m=\u001b[39m \u001b[43mnp\u001b[49m\u001b[38;5;241;43m.\u001b[39;49m\u001b[43mtransform\u001b[49m(A)\n\u001b[0;32m      3\u001b[0m \u001b[38;5;28mprint\u001b[39m(A)\n",
      "File \u001b[1;32mc:\\Users\\Dell\\AppData\\Local\\Programs\\Python\\Python312\\Lib\\site-packages\\numpy\\__init__.py:428\u001b[0m, in \u001b[0;36m__getattr__\u001b[1;34m(attr)\u001b[0m\n\u001b[0;32m    425\u001b[0m     \u001b[38;5;28;01mimport\u001b[39;00m \u001b[38;5;21;01mnumpy\u001b[39;00m\u001b[38;5;21;01m.\u001b[39;00m\u001b[38;5;21;01mchar\u001b[39;00m \u001b[38;5;28;01mas\u001b[39;00m \u001b[38;5;21;01mchar\u001b[39;00m\n\u001b[0;32m    426\u001b[0m     \u001b[38;5;28;01mreturn\u001b[39;00m char\u001b[38;5;241m.\u001b[39mchararray\n\u001b[1;32m--> 428\u001b[0m \u001b[38;5;28;01mraise\u001b[39;00m \u001b[38;5;167;01mAttributeError\u001b[39;00m(\u001b[38;5;124m\"\u001b[39m\u001b[38;5;124mmodule \u001b[39m\u001b[38;5;132;01m{!r}\u001b[39;00m\u001b[38;5;124m has no attribute \u001b[39m\u001b[38;5;124m\"\u001b[39m\n\u001b[0;32m    429\u001b[0m                      \u001b[38;5;124m\"\u001b[39m\u001b[38;5;132;01m{!r}\u001b[39;00m\u001b[38;5;124m\"\u001b[39m\u001b[38;5;241m.\u001b[39mformat(\u001b[38;5;18m__name__\u001b[39m, attr))\n",
      "\u001b[1;31mAttributeError\u001b[0m: module 'numpy' has no attribute 'transform'"
     ]
    }
   ],
   "source": [
    "A = A = np.array([[1 , 0.2 , 0.5] , [0.2 , 1 , 0.8] , [0.5 , 0.8 , 1]])\n",
    "Adet = np.transform(A)\n",
    "print(A)"
   ]
  },
  {
   "cell_type": "markdown",
   "id": "b1206fd1-da49-496b-94bf-9c5e5c917e8a",
   "metadata": {},
   "source": [
    "# QNS . 6i)"
   ]
  },
  {
   "cell_type": "code",
   "execution_count": null,
   "id": "bedeb4ce-4045-406d-9615-7272bef6f36c",
   "metadata": {},
   "outputs": [],
   "source": [
    "from numpy import random"
   ]
  },
  {
   "cell_type": "code",
   "execution_count": null,
   "id": "7ce7d35c-2be6-4cce-a4e1-87c21d37e766",
   "metadata": {},
   "outputs": [],
   "source": [
    "import seaborn as sns\n",
    "import matplotlib.pyplot as plt"
   ]
  },
  {
   "cell_type": "code",
   "execution_count": null,
   "id": "deb9af62-1c3d-4ce6-908e-31cfcf33c9a5",
   "metadata": {},
   "outputs": [
    {
     "name": "stdout",
     "output_type": "stream",
     "text": [
      "[ 7  8  4  7  3  5  3  4  7  3  5  6  2  6  3  2  7  5  7  4  6  3  5  1\n",
      " 11  7  5  4 10  6  5  6  7  6  6  7  5  2  4  3  5  2  2  9  9  3  2  2\n",
      "  9  4  7  5  2  7  8  5 12  4  4  4  7  4  5  3  7  1  7  6  3  7  2  5\n",
      "  4  5  7  4  3  6  8  7  5  6  5  6  2  5  5  7 10  6  7  6  7  4  6  3\n",
      "  5 11  3  5  5  7  4  5  6  4  3  6  4  5  8  8  8  4  1  5  3  5  7  6\n",
      "  4  3  2  9  8  3  8  4  4  9  3  3  6  3  9  5  4 15  4  4  6  5  8  3\n",
      "  2  3  4  4  8  5  3  6  6  9  3  4  6  7  3  6  3  4  2  3  5  4  6  6\n",
      "  4  9  4  5  9  4  8  5  9  6  9  5  3  5  2  8  2  5  5  5  3  5  4  8\n",
      "  4  5  7  5  5  7  2  8  2  2  5  6  5  9  5  7  4 11  4  8  4  8  4  0\n",
      "  6  2  8 11  6  4  8  5  3  4  5  3  7  8  6  3  4  8  6  6  4  5  5  8\n",
      "  4  4  6  3  5  3  8  2  6  2  4  2  6  2  6  6  3  4  4  7  4  4  4  6\n",
      "  4  6  4  4  1  5 10  5  5  7  7  9  5  4  1  8  6  3 13  6  9  3  1  5\n",
      "  6  7  9  8  4  2  3  9  2 10  2  5  0  7  4  4  4  3  8  4  8  6  5  7\n",
      "  5  7  5  7  3  5  6  9  3  2  1  6  4  2  2 12  6  6  4  4  4  6  1  6\n",
      "  2  5  7  1  2  6  4  6  7  6  6  6  5  7 11  7  4  6  6  6  6  3  4  4\n",
      "  5  4  4  5  5  3  5  9  3  9  5  3  8  5  5  4  7  7  8  1  8  4  6  9\n",
      "  5  3  4  5  9  3  4  3  4  2  4  4  7  3  5  7  1  5  7  7  8  4  4  6\n",
      "  2  8  5  4  6  3  1  4  2  4  5  6  4  5  7  7  1  2  5  8  4  4 11  7\n",
      "  8  4  5  5  6 12  6  6  6  9  2  5  2  1  4  2  4  5  3  4  7  5  3  7\n",
      "  6  6  5  9  2  4  3  0  6  3  3  8 10  7  4  2  4  4  2  3  7  6  4  4\n",
      "  9  7  4  5  5  6  6  5  6  4  3  3  7  5  6  4  3  7  5  9  8 10  4  3\n",
      "  1  2  3  4  2  4  6  4  3  6  9  5  4  3  2  4  7  7  4  6  2  6  4  2\n",
      "  9  4  6  4  1  6  3  4  4  2  7  4  7  3  4  4  3  7  3  4  2  4  7  6\n",
      " 10  7  6  2  5  6  8  3  7  8  1  2  9  3  5  7  6  6  5  5  5  6  7  2\n",
      "  8  4  1  3  7  6  3  5  6  9  7  3  3  4  6  8  3  3  6  7  6  4  4  3\n",
      "  8  5 11  4  2  5  4  8  2  4  4  3  2  5  4  5  5  1  4  5  6  8  4  4\n",
      "  3  7  3  8  2  5  9  5  5  3  7  4  7  5  4  1  3  9  4  5  5  5  9 10\n",
      "  3  8  3  9 10  4  4  7  7  3  2  6  9  6 10  4  6 10  6  2  5  5 13  5\n",
      "  3  7  4  4  9  6  2  3  3  3  6  8  6  2  8  3  6  8  1 10  6  2  4  5\n",
      "  5  3  5  4  3  7  7  3  8  4  3  3  5  3  0  5  3  6  6  6  5  3  8  5\n",
      "  5  4  8  6  3  8  6  3  3  3  6  2  5  6  3  7  4  4  2  6  9  2  2  2\n",
      "  3  6  3  5  5  5  4  2  0  6  6  9  4  5  4  2  2  3 10  3  2  7  6  3\n",
      "  9  7  7  4  2  7  6  9  4  3  1  4  7  3  5  2  4  6  5  7  2  1  7  7\n",
      "  3  5 11  2  5  5  4  7  3  6  6  4 10  5  5  3  1  8  6  3  5  5  8  2\n",
      "  6  5  6  5  3  5  2  8  5  3  5  2  5 10  8  5  6 10  5  7  8  5  4  6\n",
      "  9  4  5  5  3  9  7  3  6  3  1  7  6  5  6  2  8  8  9 12  4  4  6  9\n",
      "  1  3  5  8  6 12  2  4  6  8  4  3  2  5  3  8  4  6  3  4  5  8  5  4\n",
      "  2  2  9  3  2  6  9  5  5  6  7  2  8  6  4  6  4  7  3  6  5  6  5  4\n",
      "  4  1  8  6  2  4  2 10  2  3  4  4  2 10  3  7  5  5  5  8  8  6  8  3\n",
      "  4  4  4  3  7  6  7  2  4  6  6  2  1  4  4  4  4  4  2  3  4  5  5  7\n",
      "  7  5  4  6  5  4  2  3  3  6  4  7 11  6  5  3  8  7  4  3  4 12  5  5\n",
      "  5  8  3  3  9  5  5  4  5  7  5  7  1  4  8  7]\n"
     ]
    }
   ],
   "source": [
    "A = random.poisson(lam = 5, size = 1000)\n",
    "print(A)"
   ]
  },
  {
   "cell_type": "code",
   "execution_count": null,
   "id": "d57b1562-a75b-4a6c-b8df-454412e9def3",
   "metadata": {},
   "outputs": [
    {
     "ename": "TypeError",
     "evalue": "poisson() got an unexpected keyword argument 'mean'",
     "output_type": "error",
     "traceback": [
      "\u001b[1;31m---------------------------------------------------------------------------\u001b[0m",
      "\u001b[1;31mTypeError\u001b[0m                                 Traceback (most recent call last)",
      "Cell \u001b[1;32mIn[18], line 1\u001b[0m\n\u001b[1;32m----> 1\u001b[0m A \u001b[38;5;241m=\u001b[39m \u001b[43mrandom\u001b[49m\u001b[38;5;241;43m.\u001b[39;49m\u001b[43mpoisson\u001b[49m\u001b[43m(\u001b[49m\u001b[43mlam\u001b[49m\u001b[43m \u001b[49m\u001b[38;5;241;43m=\u001b[39;49m\u001b[43m \u001b[49m\u001b[38;5;241;43m5\u001b[39;49m\u001b[43m \u001b[49m\u001b[43m,\u001b[49m\u001b[43m \u001b[49m\u001b[43msize\u001b[49m\u001b[43m \u001b[49m\u001b[38;5;241;43m=\u001b[39;49m\u001b[43m \u001b[49m\u001b[38;5;241;43m1000\u001b[39;49m\u001b[43m \u001b[49m\u001b[43m,\u001b[49m\u001b[43m \u001b[49m\u001b[43mmean\u001b[49m\u001b[43m \u001b[49m\u001b[38;5;241;43m=\u001b[39;49m\u001b[43m \u001b[49m\u001b[38;5;241;43m5\u001b[39;49m\u001b[43m \u001b[49m\u001b[43m,\u001b[49m\u001b[43m \u001b[49m\u001b[43mvarience\u001b[49m\u001b[43m \u001b[49m\u001b[38;5;241;43m=\u001b[39;49m\u001b[43m \u001b[49m\u001b[38;5;241;43m20\u001b[39;49m\u001b[43m)\u001b[49m\n\u001b[0;32m      2\u001b[0m \u001b[38;5;28mprint\u001b[39m(A)\n",
      "File \u001b[1;32mnumpy\\\\random\\\\mtrand.pyx:3622\u001b[0m, in \u001b[0;36mnumpy.random.mtrand.RandomState.poisson\u001b[1;34m()\u001b[0m\n",
      "\u001b[1;31mTypeError\u001b[0m: poisson() got an unexpected keyword argument 'mean'"
     ]
    }
   ],
   "source": [
    "A = random.poisson(lam = 5 , size = 1000 , mean = 5 , varience = 20)\n",
    "print(A)"
   ]
  },
  {
   "cell_type": "code",
   "execution_count": null,
   "id": "02cc32a6-719d-428c-bb86-b74bf75742a6",
   "metadata": {},
   "outputs": [],
   "source": [
    "# QNS . 6ii)"
   ]
  },
  {
   "cell_type": "code",
   "execution_count": null,
   "id": "f8017469-9c1c-4b8e-ba22-8e2523664c7f",
   "metadata": {},
   "outputs": [
    {
     "data": {
      "image/png": "[encoded data removed]",
      "text/plain": [
       "<Figure size 640x480 with 1 Axes>"
      ]
     },
     "metadata": {},
     "output_type": "display_data"
    }
   ],
   "source": [
    "A = random.poisson(lam = 5 , size = 1000)\n",
    "sns.histplot(A , bins= 20 , color = 'red')\n",
    "plt.title('THE SAMPLES TO VISUALIZE THE DISTRIBUTION')\n",
    "plt.ylabel('MEAN')\n",
    "plt.xlabel('VARIANCE')\n",
    "plt.show()"
   ]
  },
  {
   "cell_type": "code",
   "execution_count": null,
   "id": "cb804117",
   "metadata": {},
   "outputs": [],
   "source": []
  },
  {
   "cell_type": "code",
   "execution_count": null,
   "id": "1008c9f7-6192-4a23-b60a-59975f759c84",
   "metadata": {},
   "outputs": [],
   "source": []
  }
 ],
 "metadata": {
  "kernelspec": {
   "display_name": "Python 3",
   "language": "python",
   "name": "python3"
  },
  "language_info": {
   "codemirror_mode": {
    "name": "ipython",
    "version": 3
   },
   "file_extension": ".py",
   "mimetype": "text/x-python",
   "name": "python",
   "nbconvert_exporter": "python",
   "pygments_lexer": "ipython3",
   "version": "3.12.6"
  }
 },
 "nbformat": 4,
 "nbformat_minor": 5
}
